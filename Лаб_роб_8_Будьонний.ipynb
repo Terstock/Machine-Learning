{
  "nbformat": 4,
  "nbformat_minor": 0,
  "metadata": {
    "colab": {
      "provenance": []
    },
    "kernelspec": {
      "name": "python3",
      "display_name": "Python 3"
    },
    "language_info": {
      "name": "python"
    }
  },
  "cells": [
    {
      "cell_type": "code",
      "execution_count": null,
      "metadata": {
        "colab": {
          "base_uri": "https://localhost:8080/"
        },
        "id": "rbXJByVdr5Nh",
        "outputId": "ad3d69b1-def0-43e1-9ddf-f4196a6a5062"
      },
      "outputs": [
        {
          "output_type": "stream",
          "name": "stdout",
          "text": [
            "Requirement already satisfied: scikit-surprise in /usr/local/lib/python3.10/dist-packages (1.1.3)\n",
            "Requirement already satisfied: joblib>=1.0.0 in /usr/local/lib/python3.10/dist-packages (from scikit-surprise) (1.3.2)\n",
            "Requirement already satisfied: numpy>=1.17.3 in /usr/local/lib/python3.10/dist-packages (from scikit-surprise) (1.23.5)\n",
            "Requirement already satisfied: scipy>=1.3.2 in /usr/local/lib/python3.10/dist-packages (from scikit-surprise) (1.11.3)\n",
            "\u001b[31mERROR: Operation cancelled by user\u001b[0m\u001b[31m\n",
            "\u001b[0m"
          ]
        }
      ],
      "source": [
        "!pip install scikit-surprise"
      ]
    },
    {
      "cell_type": "code",
      "source": [
        "# Розробляємо за допомогою бібліотеки surprise рекомендаційну систему.\n",
        "#Використовуємо датасет movielens-100k.\n",
        "from surprise import Dataset, Reader,SVD,SVDpp,NMF,SlopeOne,KNNBasic\n",
        "from surprise.model_selection import cross_validate\n",
        "import matplotlib.pyplot as plt\n",
        "df = Dataset.load_builtin('ml-100k')\n"
      ],
      "metadata": {
        "id": "L7dHlZ0OsSAh"
      },
      "execution_count": null,
      "outputs": []
    },
    {
      "cell_type": "code",
      "source": [
        "# Використовуємо алгоритми SVD, SVDpp, NMF + ще два на власний вибір.\n",
        "#Найкращі параметри для всіх алгоритмів підбираємо за допомогою крос-валідації.\n",
        "algo_svd = SVD()\n",
        "algo_svdpp = SVDpp()\n",
        "algo_NMF = NMF()\n",
        "algo_slop = SlopeOne()\n",
        "algo_KNN = KNNBasic()"
      ],
      "metadata": {
        "id": "37cK6RuvsmCQ"
      },
      "execution_count": null,
      "outputs": []
    },
    {
      "cell_type": "code",
      "source": [
        "# Крос-валідація використовується для оцінки того, наскільки добре ці алгоритми працюють на вашому датасеті.\n",
        "crossval_svd = cross_validate(algo_svd,df,measures=['RMSE'], cv = 3, verbose=True)\n",
        "crossval_svdpp = cross_validate(algo_svdpp,df,measures=['RMSE'], cv = 3, verbose=True)\n",
        "crossval_NMF = cross_validate(algo_NMF,df,measures=['RMSE'], cv = 3, verbose=True)\n",
        "crossval_slop = cross_validate(algo_slop,df,measures=['RMSE'], cv = 3, verbose=True)\n",
        "crossval_KNN = cross_validate(algo_KNN,df,measures=['RMSE'], cv = 3, verbose=True)"
      ],
      "metadata": {
        "colab": {
          "base_uri": "https://localhost:8080/"
        },
        "id": "KYdWxOOrs1ca",
        "outputId": "d1a48a95-5858-4182-e2fb-0e9f718cc9dd"
      },
      "execution_count": null,
      "outputs": [
        {
          "output_type": "stream",
          "name": "stdout",
          "text": [
            "Evaluating RMSE of algorithm SVD on 3 split(s).\n",
            "\n",
            "                  Fold 1  Fold 2  Fold 3  Mean    Std     \n",
            "RMSE (testset)    0.9458  0.9434  0.9456  0.9449  0.0011  \n",
            "Fit time          2.24    0.93    0.88    1.35    0.63    \n",
            "Test time         0.31    0.21    0.29    0.27    0.04    \n",
            "Evaluating RMSE of algorithm SVDpp on 3 split(s).\n",
            "\n",
            "                  Fold 1  Fold 2  Fold 3  Mean    Std     \n",
            "RMSE (testset)    0.9300  0.9237  0.9296  0.9277  0.0029  \n",
            "Fit time          17.89   17.93   18.14   17.99   0.11    \n",
            "Test time         6.79    6.59    6.83    6.74    0.11    \n",
            "Evaluating RMSE of algorithm NMF on 3 split(s).\n",
            "\n",
            "                  Fold 1  Fold 2  Fold 3  Mean    Std     \n",
            "RMSE (testset)    0.9757  0.9776  0.9786  0.9773  0.0012  \n",
            "Fit time          1.12    1.11    1.14    1.12    0.01    \n",
            "Test time         0.22    0.29    0.19    0.23    0.04    \n",
            "Evaluating RMSE of algorithm SlopeOne on 3 split(s).\n",
            "\n",
            "                  Fold 1  Fold 2  Fold 3  Mean    Std     \n",
            "RMSE (testset)    0.9540  0.9457  0.9512  0.9503  0.0034  \n",
            "Fit time          0.37    0.58    0.41    0.45    0.09    \n",
            "Test time         2.90    3.93    2.58    3.13    0.58    \n",
            "Computing the msd similarity matrix...\n",
            "Done computing similarity matrix.\n",
            "Computing the msd similarity matrix...\n",
            "Done computing similarity matrix.\n",
            "Computing the msd similarity matrix...\n",
            "Done computing similarity matrix.\n",
            "Evaluating RMSE of algorithm KNNBasic on 3 split(s).\n",
            "\n",
            "                  Fold 1  Fold 2  Fold 3  Mean    Std     \n",
            "RMSE (testset)    0.9857  0.9890  0.9886  0.9878  0.0015  \n",
            "Fit time          0.17    0.19    0.18    0.18    0.01    \n",
            "Test time         3.85    5.36    3.80    4.34    0.72    \n"
          ]
        }
      ]
    },
    {
      "cell_type": "code",
      "source": [
        "# Обчислюємо середнє значення середньоквадратичної помилки RMSE для кожного алгоритму на основі результатів крос-валідації\n",
        "rmse_svd = crossval_svd['test_rmse'].mean()\n",
        "rmse_svdpp = crossval_svdpp['test_rmse'].mean()\n",
        "rmse_NMF = crossval_NMF['test_rmse'].mean()\n",
        "rmse_slop = crossval_slop['test_rmse'].mean()\n",
        "rmse_KNN = crossval_KNN['test_rmse'].mean()\n",
        "\n",
        "print(f\"svd mean:{rmse_svd}\")\n",
        "print(f\"svdpp mean:{rmse_svdpp}\")\n",
        "print(f\"nmf mean:{rmse_NMF}\")\n",
        "print(f\"slope mean:{rmse_slop}\")\n",
        "print(f\"knn mean:{rmse_KNN}\")"
      ],
      "metadata": {
        "colab": {
          "base_uri": "https://localhost:8080/"
        },
        "id": "vTGjJh3zut6f",
        "outputId": "d55141e1-9ecb-44cf-f00b-6cf6f3ffb908"
      },
      "execution_count": null,
      "outputs": [
        {
          "output_type": "stream",
          "name": "stdout",
          "text": [
            "svd mean:0.9449259658259299\n",
            "svdpp mean:0.9277405814801257\n",
            "nmf mean:0.9772831917080042\n",
            "slope mean:0.9503073814436975\n",
            "knn mean:0.987767756587505\n"
          ]
        }
      ]
    },
    {
      "cell_type": "code",
      "source": [
        "# Візуалізуємо наші дані\n",
        "\n",
        "rmse_vals = [rmse_svd,rmse_svdpp,rmse_KNN,rmse_slop,rmse_NMF]\n",
        "algorithms = ['SVD','SVDpp','NMF','SlopeOne','KNN']\n",
        "\n",
        "plt.bar(algorithms,rmse_vals,color=['green','yellow','black','blue','red'])\n",
        "plt.xlabel('Algorithms')\n",
        "plt.ylabel('Rmse')\n",
        "plt.ylim(0.9,1.0)\n",
        "plt.show()"
      ],
      "metadata": {
        "colab": {
          "base_uri": "https://localhost:8080/",
          "height": 455
        },
        "id": "GRjX2NlKuwgH",
        "outputId": "f31273b3-4ed0-454f-a9c2-823a06f53729"
      },
      "execution_count": null,
      "outputs": [
        {
          "output_type": "display_data",
          "data": {
            "text/plain": [
              "<Figure size 640x480 with 1 Axes>"
            ],
            "image/png": "[encoded data removed]"
          },
          "metadata": {}
        }
      ]
    },
    {
      "cell_type": "code",
      "source": [
        "# Працюємо з алгоритмом SCDpp,також проводимо поділ набору даних.\n",
        "from surprise import accuracy\n",
        "from sklearn.metrics import mean_absolute_error\n",
        "from surprise.model_selection import train_test_split\n",
        "trainset, testset = train_test_split(df, test_size=.25)\n",
        "algo_svdpp.fit(trainset)\n",
        "predictions = algo_svdpp.test(testset)\n",
        "accuracy.rmse(predictions)"
      ],
      "metadata": {
        "colab": {
          "base_uri": "https://localhost:8080/"
        },
        "id": "fape51dZuym2",
        "outputId": "0764d0a0-c658-46d2-daa2-b4572e18078f"
      },
      "execution_count": null,
      "outputs": [
        {
          "output_type": "stream",
          "name": "stdout",
          "text": [
            "RMSE: 0.9190\n"
          ]
        },
        {
          "output_type": "execute_result",
          "data": {
            "text/plain": [
              "0.9189707976028334"
            ]
          },
          "metadata": {},
          "execution_count": 32
        }
      ]
    },
    {
      "cell_type": "code",
      "source": [
        "from surprise.model_selection import GridSearchCV\n",
        "param_grid = {'n_epochs': [5, 10], 'lr_all': [0.002, 0.005],\n",
        "              'reg_all': [0.4, 0.6]}\n",
        "gs = GridSearchCV(SVDpp, param_grid, measures=['rmse', 'mae'], cv=3)\n",
        "gs.fit(df)\n",
        "print(gs.best_score['rmse'])\n",
        "print(gs.best_params['rmse'])"
      ],
      "metadata": {
        "colab": {
          "base_uri": "https://localhost:8080/"
        },
        "id": "xX_PSqaDvo1l",
        "outputId": "9d607474-fe26-4592-e06d-d7e9ea5eba33"
      },
      "execution_count": null,
      "outputs": [
        {
          "output_type": "stream",
          "name": "stdout",
          "text": [
            "0.9632151044287296\n",
            "{'n_epochs': 10, 'lr_all': 0.005, 'reg_all': 0.4}\n"
          ]
        }
      ]
    },
    {
      "cell_type": "code",
      "source": [
        "# Імпортуємо токен з сайту\n",
        "!pip install sigopt\n",
        "from sigopt import Connection\n",
        "conn = Connection(client_token=\"FQAJHXQJZHLSLFODVJXEHAHFYLGPSNBDSEPXNPAULUGNECQE\")"
      ],
      "metadata": {
        "colab": {
          "base_uri": "https://localhost:8080/"
        },
        "id": "DBAIYREQxCzJ",
        "outputId": "ac6bba85-d937-46fa-c6fe-65741f181355"
      },
      "execution_count": null,
      "outputs": [
        {
          "output_type": "stream",
          "name": "stdout",
          "text": [
            "Collecting sigopt\n",
            "  Downloading sigopt-8.8.2-py2.py3-none-any.whl (198 kB)\n",
            "\u001b[?25l     \u001b[90m━━━━━━━━━━━━━━━━━━━━━━━━━━━━━━━━━━━━━━━━\u001b[0m \u001b[32m0.0/198.8 kB\u001b[0m \u001b[31m?\u001b[0m eta \u001b[36m-:--:--\u001b[0m\r\u001b[2K     \u001b[91m━━━━━━━━━━━━━━━━━━━━━━\u001b[0m\u001b[91m╸\u001b[0m\u001b[90m━━━━━━━━━━━━━━━━━\u001b[0m \u001b[32m112.6/198.8 kB\u001b[0m \u001b[31m3.1 MB/s\u001b[0m eta \u001b[36m0:00:01\u001b[0m\r\u001b[2K     \u001b[90m━━━━━━━━━━━━━━━━━━━━━━━━━━━━━━━━━━━━━━━━\u001b[0m \u001b[32m198.8/198.8 kB\u001b[0m \u001b[31m3.8 MB/s\u001b[0m eta \u001b[36m0:00:00\u001b[0m\n",
            "\u001b[?25hCollecting backoff<2.0.0,>=1.10.0 (from sigopt)\n",
            "  Downloading backoff-1.11.1-py2.py3-none-any.whl (13 kB)\n",
            "Requirement already satisfied: click>=8.0.0 in /usr/local/lib/python3.10/dist-packages (from sigopt) (8.1.7)\n",
            "Collecting GitPython>=2.0.0 (from sigopt)\n",
            "  Downloading GitPython-3.1.40-py3-none-any.whl (190 kB)\n",
            "\u001b[2K     \u001b[90m━━━━━━━━━━━━━━━━━━━━━━━━━━━━━━━━━━━━━━━━\u001b[0m \u001b[32m190.6/190.6 kB\u001b[0m \u001b[31m6.7 MB/s\u001b[0m eta \u001b[36m0:00:00\u001b[0m\n",
            "\u001b[?25hRequirement already satisfied: packaging>=21.3 in /usr/local/lib/python3.10/dist-packages (from sigopt) (23.2)\n",
            "Collecting pypng>=0.0.20 (from sigopt)\n",
            "  Downloading pypng-0.20220715.0-py3-none-any.whl (58 kB)\n",
            "\u001b[2K     \u001b[90m━━━━━━━━━━━━━━━━━━━━━━━━━━━━━━━━━━━━━━━━\u001b[0m \u001b[32m58.1/58.1 kB\u001b[0m \u001b[31m7.7 MB/s\u001b[0m eta \u001b[36m0:00:00\u001b[0m\n",
            "\u001b[?25hRequirement already satisfied: PyYAML<7,>=5 in /usr/local/lib/python3.10/dist-packages (from sigopt) (6.0.1)\n",
            "Requirement already satisfied: requests<3.0.0,>=2.25.0 in /usr/local/lib/python3.10/dist-packages (from sigopt) (2.31.0)\n",
            "Collecting urllib3<2.0.0,>=1.26.5 (from sigopt)\n",
            "  Downloading urllib3-1.26.18-py2.py3-none-any.whl (143 kB)\n",
            "\u001b[2K     \u001b[90m━━━━━━━━━━━━━━━━━━━━━━━━━━━━━━━━━━━━━━━━\u001b[0m \u001b[32m143.8/143.8 kB\u001b[0m \u001b[31m7.3 MB/s\u001b[0m eta \u001b[36m0:00:00\u001b[0m\n",
            "\u001b[?25hCollecting gitdb<5,>=4.0.1 (from GitPython>=2.0.0->sigopt)\n",
            "  Downloading gitdb-4.0.11-py3-none-any.whl (62 kB)\n",
            "\u001b[2K     \u001b[90m━━━━━━━━━━━━━━━━━━━━━━━━━━━━━━━━━━━━━━━━\u001b[0m \u001b[32m62.7/62.7 kB\u001b[0m \u001b[31m8.3 MB/s\u001b[0m eta \u001b[36m0:00:00\u001b[0m\n",
            "\u001b[?25hRequirement already satisfied: charset-normalizer<4,>=2 in /usr/local/lib/python3.10/dist-packages (from requests<3.0.0,>=2.25.0->sigopt) (3.3.1)\n",
            "Requirement already satisfied: idna<4,>=2.5 in /usr/local/lib/python3.10/dist-packages (from requests<3.0.0,>=2.25.0->sigopt) (3.4)\n",
            "Requirement already satisfied: certifi>=2017.4.17 in /usr/local/lib/python3.10/dist-packages (from requests<3.0.0,>=2.25.0->sigopt) (2023.7.22)\n",
            "Collecting smmap<6,>=3.0.1 (from gitdb<5,>=4.0.1->GitPython>=2.0.0->sigopt)\n",
            "  Downloading smmap-5.0.1-py3-none-any.whl (24 kB)\n",
            "Installing collected packages: pypng, urllib3, smmap, backoff, gitdb, GitPython, sigopt\n",
            "  Attempting uninstall: urllib3\n",
            "    Found existing installation: urllib3 2.0.7\n",
            "    Uninstalling urllib3-2.0.7:\n",
            "      Successfully uninstalled urllib3-2.0.7\n",
            "Successfully installed GitPython-3.1.40 backoff-1.11.1 gitdb-4.0.11 pypng-0.20220715.0 sigopt-8.8.2 smmap-5.0.1 urllib3-1.26.18\n"
          ]
        }
      ]
    },
    {
      "cell_type": "code",
      "source": [
        "# Тепер визначаємо параметри\n",
        "experiment = conn.experiments().create(\n",
        "\n",
        "  name='Surprise Movies-100k Recommender41',\n",
        "  parameters=[\n",
        "    dict(name='n_epochs', type='int', bounds=dict(min=5, max=10)),\n",
        "    dict(name='lr_all', type='double', bounds=dict(min=0.002, max=0.005)),\n",
        "    dict(name='reg_all', type='double', bounds=dict(min=0.4, max=0.6))\n",
        "  ],\n",
        "\n",
        "  metrics=[\n",
        "    dict(name='RMSE', objective='minimize', strategy='optimize'),\n",
        "    dict(name='MAE', objective='minimize', strategy='store')\n",
        "  ],\n",
        "\n",
        "  parallel_bandwidth=1,\n",
        "  observation_budget=50,\n",
        "\n",
        ")\n",
        "\n",
        "print(\"Created experiment: https://app.sigopt.com/experiment/\" + experiment.id)"
      ],
      "metadata": {
        "colab": {
          "base_uri": "https://localhost:8080/"
        },
        "id": "EXdM9Xydxcok",
        "outputId": "afb8f7a9-9a92-4d80-cb38-206b8fea2b2b"
      },
      "execution_count": null,
      "outputs": [
        {
          "output_type": "stream",
          "name": "stdout",
          "text": [
            "Created experiment: https://app.sigopt.com/experiment/1023738\n"
          ]
        }
      ]
    },
    {
      "cell_type": "code",
      "source": [
        "# Визначаємо функції, які необхідні для створення моделі\n",
        "def create_model(assignments):\n",
        "  algor = SVDpp(\n",
        "      n_epochs=assignments['n_epochs'],\n",
        "      lr_all=assignments['lr_all'],\n",
        "      reg_all=assignments['reg_all']\n",
        "\n",
        "  ).fit(trainset)\n",
        "\n",
        "  return algor\n",
        "\n",
        "def evaluate_model(assignments):\n",
        "  algor = create_model(assignments)\n",
        "  predictions = algor.test(testset)\n",
        "\n",
        "  return [\n",
        "      dict(name=\"RMSE\", value=accuracy.rmse(predictions)),\n",
        "      dict(name=\"MAE\", value=accuracy.mae(predictions))\n",
        "    ]"
      ],
      "metadata": {
        "id": "ESFZeqEUxk8E"
      },
      "execution_count": null,
      "outputs": []
    },
    {
      "cell_type": "code",
      "source": [
        "# Цикл оптимізації\n",
        "while experiment.progress.observation_count < experiment.observation_budget:\n",
        "\n",
        "  suggestion = conn.experiments(experiment.id).suggestions().create()\n",
        "  value_dicts = evaluate_model(suggestion.assignments)\n",
        "  conn.experiments(experiment.id).observations().create(\n",
        "    suggestion=suggestion.id,\n",
        "    values=value_dicts,\n",
        "  )\n",
        "\n",
        "  experiment = conn.experiments(experiment.id).fetch()\n",
        "\n",
        "# Fetch the best configuration and explore your experiment\n",
        "all_best_assignments = conn.experiments(experiment.id).best_assignments().fetch()\n",
        "\n",
        "# Returns a list of dict-like Observation objects\n",
        "best_assignments = all_best_assignments.data[0].assignments\n",
        "\n",
        "print(\"Best Assignments: \" + str(best_assignments))\n",
        "print(\"Explore your experiment: https://app.sigopt.com/experiment/\" + experiment.id + \"/analysis\")"
      ],
      "metadata": {
        "colab": {
          "base_uri": "https://localhost:8080/"
        },
        "id": "VKWnKEuYxo33",
        "outputId": "2d7dc242-0537-4797-a4a7-34b2d439ffc5"
      },
      "execution_count": null,
      "outputs": [
        {
          "output_type": "stream",
          "name": "stdout",
          "text": [
            "RMSE: 0.9711\n",
            "MAE:  0.7817\n",
            "RMSE: 0.9804\n",
            "MAE:  0.7901\n",
            "RMSE: 0.9760\n",
            "MAE:  0.7851\n",
            "RMSE: 0.9729\n",
            "MAE:  0.7840\n",
            "RMSE: 0.9678\n",
            "MAE:  0.7785\n",
            "RMSE: 0.9672\n",
            "MAE:  0.7783\n",
            "RMSE: 0.9635\n",
            "MAE:  0.7741\n",
            "RMSE: 0.9613\n",
            "MAE:  0.7717\n",
            "RMSE: 0.9627\n",
            "MAE:  0.7725\n",
            "RMSE: 0.9583\n",
            "MAE:  0.7683\n",
            "RMSE: 0.9700\n",
            "MAE:  0.7799\n",
            "RMSE: 0.9757\n",
            "MAE:  0.7853\n",
            "RMSE: 0.9761\n",
            "MAE:  0.7861\n",
            "RMSE: 0.9655\n",
            "MAE:  0.7752\n",
            "RMSE: 0.9761\n",
            "MAE:  0.7872\n",
            "RMSE: 0.9704\n",
            "MAE:  0.7804\n",
            "RMSE: 0.9683\n",
            "MAE:  0.7775\n",
            "RMSE: 0.9671\n",
            "MAE:  0.7765\n",
            "RMSE: 0.9594\n",
            "MAE:  0.7696\n",
            "RMSE: 0.9626\n",
            "MAE:  0.7728\n",
            "RMSE: 0.9708\n",
            "MAE:  0.7817\n",
            "RMSE: 0.9758\n",
            "MAE:  0.7857\n",
            "RMSE: 0.9679\n",
            "MAE:  0.7781\n",
            "RMSE: 0.9870\n",
            "MAE:  0.7973\n",
            "RMSE: 0.9692\n",
            "MAE:  0.7808\n",
            "RMSE: 0.9732\n",
            "MAE:  0.7839\n",
            "RMSE: 0.9681\n",
            "MAE:  0.7781\n",
            "RMSE: 0.9841\n",
            "MAE:  0.7949\n",
            "RMSE: 0.9748\n",
            "MAE:  0.7847\n",
            "RMSE: 0.9819\n",
            "MAE:  0.7927\n",
            "RMSE: 0.9695\n",
            "MAE:  0.7805\n",
            "RMSE: 0.9733\n",
            "MAE:  0.7845\n",
            "RMSE: 0.9726\n",
            "MAE:  0.7838\n",
            "RMSE: 0.9623\n",
            "MAE:  0.7722\n",
            "RMSE: 0.9646\n",
            "MAE:  0.7744\n",
            "RMSE: 0.9670\n",
            "MAE:  0.7767\n",
            "RMSE: 0.9662\n",
            "MAE:  0.7756\n",
            "RMSE: 0.9624\n",
            "MAE:  0.7720\n",
            "RMSE: 0.9841\n",
            "MAE:  0.7932\n",
            "RMSE: 0.9638\n",
            "MAE:  0.7738\n",
            "RMSE: 0.9599\n",
            "MAE:  0.7698\n",
            "RMSE: 0.9649\n",
            "MAE:  0.7746\n",
            "RMSE: 0.9842\n",
            "MAE:  0.7943\n",
            "RMSE: 0.9709\n",
            "MAE:  0.7803\n",
            "RMSE: 0.9662\n",
            "MAE:  0.7764\n",
            "RMSE: 0.9693\n",
            "MAE:  0.7806\n",
            "RMSE: 0.9604\n",
            "MAE:  0.7702\n",
            "RMSE: 0.9711\n",
            "MAE:  0.7826\n",
            "RMSE: 0.9697\n",
            "MAE:  0.7807\n",
            "Best Assignments: Assignments({\n",
            "  \"lr_all\": 0.005,\n",
            "  \"n_epochs\": 10,\n",
            "  \"reg_all\": 0.4\n",
            "})\n",
            "Explore your experiment: https://app.sigopt.com/experiment/1023738/analysis\n"
          ]
        },
        {
          "output_type": "stream",
          "name": "stderr",
          "text": [
            "/usr/local/lib/python3.10/dist-packages/sigopt/objects.py:338: RuntimeWarning: The .data field only contains a single page of results, which may be incomplete for large responses. Prefer to use the `.iterate_pages() to ensure that you iterate through all elements in the response.\n",
            "  warnings.warn(\n"
          ]
        }
      ]
    },
    {
      "cell_type": "code",
      "source": [],
      "metadata": {
        "id": "Vv4N9Avtxo8w"
      },
      "execution_count": null,
      "outputs": []
    }
  ]
}